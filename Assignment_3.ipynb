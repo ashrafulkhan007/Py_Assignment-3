{
 "cells": [
  {
   "cell_type": "markdown",
   "metadata": {},
   "source": [
    "# Assignment 3\n",
    "\n",
    "#### MD ASHRAFUL HAKIM KHAN SIDDIQUEE\n",
    "#### MD EASIN\n",
    "#### AKLIMA BEGUM MITU"
   ]
  },
  {
   "cell_type": "code",
   "execution_count": 2,
   "metadata": {},
   "outputs": [],
   "source": [
    "# Import Numpy and Pandas once for all tasks\n",
    "import numpy as np\n",
    "import pandas as pd\n",
    "from matplotlib import pyplot as plt # if this line gives an error, please install matplotlib with pip or conda"
   ]
  },
  {
   "cell_type": "markdown",
   "metadata": {},
   "source": [
    "## Task 1 (1 point)\n",
    "\n",
    "**Indexing 2D Arrays** \n",
    "\n",
    "Write a function that takes a 2D array as an argument with **at least 3 rows and 3 columns** (throw an exception, if the user provides too few dimensions). The matrix is then stripped of the 'outer' rows and columns and only the remaining inner matrix is returned. Below a visual example for a 4x5 matrix:\n",
    "\n",
    "$$\n",
    "\\begin{bmatrix} \n",
    "    \\cdot & \\cdot & \\cdot & \\cdot & \\cdot \\\\\n",
    "    \\cdot & O & O & O & \\cdot \\\\\n",
    "    \\cdot & O & O & O & \\cdot \\\\\n",
    "    \\cdot & \\cdot & \\cdot & \\cdot & \\cdot\n",
    "\\end{bmatrix}\n",
    "$$\n",
    "\n",
    "Test your function for the matrix below. Don't forget to write the docstrings."
   ]
  },
  {
   "cell_type": "code",
   "execution_count": 3,
   "metadata": {},
   "outputs": [],
   "source": [
    "def strip_mat(arr):\n",
    "    assert arr.shape >= (3, 3)\n",
    "    return arr[1: -1, 1:-1]\n",
    "    "
   ]
  },
  {
   "cell_type": "code",
   "execution_count": 4,
   "metadata": {},
   "outputs": [
    {
     "name": "stdout",
     "output_type": "stream",
     "text": [
      "[[1. 2. 3.]\n",
      " [0. 1. 2.]]\n"
     ]
    }
   ],
   "source": [
    "# When applying your function to the following matrix, the output should be as below:\n",
    "arr1 = np.ones((4,5)) * np.arange(1,6) - np.arange(4).reshape((4,1)) # same matrix as in Numpy lecture\n",
    "print(strip_mat(arr1))"
   ]
  },
  {
   "cell_type": "markdown",
   "metadata": {},
   "source": [
    "## Task 2 (1 point)\n",
    "\n",
    "**Arrays of Random Variables**\n",
    "\n",
    "Create a ``numpy`` array with 10000 rows and 2 columns. The first column should contain Gaussian distributed variables with mean 1 and standard deviation 2 and the second column should contain Gaussian distributed variables with mean -2 and standard deviation 0.5. "
   ]
  },
  {
   "cell_type": "code",
   "execution_count": 5,
   "metadata": {},
   "outputs": [],
   "source": [
    "# YOUR CODE HERE\n",
    "rand_arr = np.random.randn(100000, 2) * np.array([2., 0.5]) + np.array([1,-2])"
   ]
  },
  {
   "cell_type": "code",
   "execution_count": 6,
   "metadata": {},
   "outputs": [
    {
     "data": {
      "image/png": "[encoded data removed]",
      "text/plain": [
       "<Figure size 432x288 with 1 Axes>"
      ]
     },
     "metadata": {
      "needs_background": "light"
     },
     "output_type": "display_data"
    }
   ],
   "source": [
    "# When plotted as histograms, the two columns should look roughly like this:\n",
    "plt.hist(rand_arr[:,0], bins = 20)\n",
    "plt.hist(rand_arr[:,1], bins = 20)\n",
    "plt.show()"
   ]
  },
  {
   "cell_type": "markdown",
   "metadata": {},
   "source": [
    "## Task 3 (1 point)\n",
    "\n",
    "**Polar Coordinates**\n",
    "\n",
    "Let $P = (x, y)$ be a point in the standard 2D-space. Its cartesian coordinates can be converted into polar coordinates by applying the transformations:\n",
    "\n",
    "$$\n",
    "r = \\sqrt{x^2 + y^2}\n",
    "$$\n",
    "\n",
    "for the radius $r$ and \n",
    "\n",
    "$$\n",
    "\\varphi = tan^{-1}(\\frac{y}{x})\n",
    "$$\n",
    "\n",
    "for the angle $\\varphi$. \n",
    "\n",
    "Create a random 10x2 matrix representing cartesian coordinates and convert them to polar."
   ]
  },
  {
   "cell_type": "code",
   "execution_count": 12,
   "metadata": {},
   "outputs": [
    {
     "name": "stdout",
     "output_type": "stream",
     "text": [
      "[0.47566894 0.69816981 0.82645354 0.33073723 0.65921454 0.64374153\n",
      " 1.01479415 0.84683743 0.90386864 0.15118035]\n",
      "[1.49874103 0.19367707 0.7082546  1.2112911  0.00303169 1.21444693\n",
      " 1.16965233 0.66220278 0.86794719 1.42963504]\n"
     ]
    }
   ],
   "source": [
    "rand_mat= np.random.random((10,2))\n",
    "x,y = rand_mat[:,0], rand_mat[:,1]\n",
    "r = np.sqrt(x**2+y**2)\n",
    "t = np.arctan2(y,x)\n",
    "print(r)\n",
    "print(t)"
   ]
  },
  {
   "cell_type": "markdown",
   "metadata": {},
   "source": [
    "## Task 4 (1 point)\n",
    "\n",
    "**Show Me the Stats!**\n",
    "\n",
    "Download the file *zuwendungen-berlin.csv.gz* from the Pandas lecture folder and load it into a Pandas data frame.\n",
    "\n",
    "Now print the following statistics\n",
    "\n",
    "- the count\n",
    "- the mean\n",
    "- the standard deviation\n",
    "- the minimum\n",
    "- the median\n",
    "- the maximum\n",
    " \n",
    "**only** for the spendings of the Berlin Senat (the column name in German is *Betrag*).\n",
    "\n",
    "Your output stats should be:\n",
    "\n",
    "```[40820.0, 229215.96496815287, 3931963.428809921, 100.0, 16477.0, 487261162.0]```\n",
    "\n",
    "*Note*: you can inspect a couple of samples of the dataframe with ``df.sample(n=10)`` for better understanding your data."
   ]
  },
  {
   "cell_type": "code",
   "execution_count": 7,
   "metadata": {},
   "outputs": [
    {
     "name": "stdout",
     "output_type": "stream",
     "text": [
      "[40820.0, 229215.96496815287, 3931963.428809921, 100.0, 16477.0, 487261162.0]\n"
     ]
    }
   ],
   "source": [
    "df = pd.read_csv(\"data/zuwendungen-berlin.csv.gz\")\n",
    "var = df.describe()\n",
    "print( [var['Betrag']['count'],\n",
    "        var['Betrag']['mean'],\n",
    "        var['Betrag']['std'],\n",
    "        var['Betrag']['min'],\n",
    "        var['Betrag']['50%'],\n",
    "        var['Betrag']['max']\n",
    "        ])"
   ]
  },
  {
   "cell_type": "markdown",
   "metadata": {},
   "source": [
    "## Task 5 (1 point)\n",
    "\n",
    "**How much is each recipient of a spending receiving in total?**\n",
    "\n",
    "Use the previously loaded data frame of spendings, group by recipient (column *Name*) and then sum all money received for each recipient. Print the names of the recipients that received in total **250 euros**. "
   ]
  },
  {
   "cell_type": "code",
   "execution_count": 8,
   "metadata": {},
   "outputs": [
    {
     "name": "stdout",
     "output_type": "stream",
     "text": [
      "617                                   BDH Spandau e. V.\n",
      "3021                                Fritz-Karsen-Schule\n",
      "6210                  Rudolf Steiner Schule Berlin e.V.\n",
      "6771    Sozialverband Deutschland, Landesverband Berlin\n",
      "8743                                      formDDR e. V.\n",
      "Name: Name, dtype: object\n"
     ]
    }
   ],
   "source": [
    "df = pd.read_csv(\"data/zuwendungen-berlin.csv.gz\")\n",
    "\n",
    "var = df.groupby( 'Name', as_index=False ).sum()\n",
    "# get values where sum is total 250 Euro\n",
    "print(var[ var[\"Betrag\"] == 250 ]['Name'])"
   ]
  },
  {
   "cell_type": "markdown",
   "metadata": {},
   "source": [
    "## Task 6 (1 point)\n",
    "\n",
    "**How much is Berlin spending on each political ressort?**\n",
    "\n",
    "Use the previously loaded data frame of spendings, group by political ressort (in German 'Politikbereich') and compute the \n",
    "\n",
    " - minimum\n",
    " - median\n",
    " - maximum\n",
    "\n",
    "of the spendings on each political ressort. Print the aggregates in the political ressort ('Politikbereich') 'sciences' ('Wissenschaft').\n",
    "\n",
    "Your output stats should be \n",
    "\n",
    "```[500.0, 115557.5, 41852102.0]```"
   ]
  },
  {
   "cell_type": "code",
   "execution_count": 9,
   "metadata": {},
   "outputs": [
    {
     "name": "stdout",
     "output_type": "stream",
     "text": [
      "[500.0, 115557.5, 41852102.0]\n"
     ]
    }
   ],
   "source": [
    "df = pd.read_csv(\"data/zuwendungen-berlin.csv.gz\")\n",
    "\n",
    "var = df[df[\"Politikbereich\"] == \"Wissenschaft\"]\n",
    "var = var.groupby('Politikbereich')\n",
    "var = var.describe()\n",
    "print([var['Betrag']['min']['Wissenschaft'],\n",
    "       var['Betrag']['50%']['Wissenschaft'],\n",
    "       var['Betrag']['max']['Wissenschaft']\n",
    "       ])"
   ]
  },
  {
   "cell_type": "markdown",
   "metadata": {},
   "source": [
    "## Task 7 (4 points)\n",
    "\n",
    "**How much is Berlin spending on each U-Bahn?**\n",
    "\n",
    "At the time this dataset was created, there were 9 metro lines in Berlin.\n",
    "\n",
    "Use the previously loaded data frame of spendings, filter for transportation (German 'Verkehr'), group by the specific Ubahn and sum up the spendings. At the end, print the Ubahn names ordered from most (first element) to least expensive (last element).\n",
    "\n",
    "*Note*: For the Ubahn grouping you are interested in the column 'Zweck' (eng. 'purpose'). This column contains a short description of what exactly the money was spent on. The Ubahn signs - *U1, U2... U9* - are hidden in these descriptions. You need to find a way to extract these signs so that you can group according to them. Sometimes there is more than one Ubahn listed in the description; it is fine if you just extract the first one."
   ]
  },
  {
   "cell_type": "code",
   "execution_count": 11,
   "metadata": {},
   "outputs": [
    {
     "name": "stdout",
     "output_type": "stream",
     "text": [
      "4    U5\n",
      "1    U2\n",
      "0    U1\n",
      "5    U6\n",
      "7    U8\n",
      "6    U7\n",
      "8    U9\n",
      "2    U3\n",
      "3    U4\n",
      "Name: ubahn, dtype: object\n"
     ]
    }
   ],
   "source": [
    "df = pd.read_csv(\"data/zuwendungen-berlin.csv.gz\")\n",
    "\n",
    "df['ubahn'] = df['Zweck'].str.extract('(U[1-9])', expand=False)\n",
    "money_spent_per_ubahn = df.groupby('ubahn', as_index=False)\\\n",
    "        .agg({\"Betrag\": \"sum\"})\n",
    "print(money_spent_per_ubahn.sort_values(by=['Betrag'], ascending=False)['ubahn'])"
   ]
  },
  {
   "cell_type": "code",
   "execution_count": null,
   "metadata": {},
   "outputs": [],
   "source": []
  }
 ],
 "metadata": {
  "kernelspec": {
   "display_name": "Python 3 (ipykernel)",
   "language": "python",
   "name": "python3"
  },
  "language_info": {
   "codemirror_mode": {
    "name": "ipython",
    "version": 3
   },
   "file_extension": ".py",
   "mimetype": "text/x-python",
   "name": "python",
   "nbconvert_exporter": "python",
   "pygments_lexer": "ipython3",
   "version": "3.9.12"
  }
 },
 "nbformat": 4,
 "nbformat_minor": 2
}
